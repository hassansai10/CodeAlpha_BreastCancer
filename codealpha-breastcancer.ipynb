{
 "cells": [
  {
   "cell_type": "code",
   "execution_count": 1,
   "id": "2d86258b",
   "metadata": {
    "_cell_guid": "b1076dfc-b9ad-4769-8c92-a6c4dae69d19",
    "_uuid": "8f2839f25d086af736a60e9eeb907d3b93b6e0e5",
    "execution": {
     "iopub.execute_input": "2025-09-04T22:23:13.116224Z",
     "iopub.status.busy": "2025-09-04T22:23:13.115731Z",
     "iopub.status.idle": "2025-09-04T22:23:15.018409Z",
     "shell.execute_reply": "2025-09-04T22:23:15.017501Z"
    },
    "papermill": {
     "duration": 1.909939,
     "end_time": "2025-09-04T22:23:15.020165",
     "exception": false,
     "start_time": "2025-09-04T22:23:13.110226",
     "status": "completed"
    },
    "tags": []
   },
   "outputs": [],
   "source": [
    "import pandas as pd\n",
    "import numpy as np"
   ]
  },
  {
   "cell_type": "code",
   "execution_count": 2,
   "id": "24c0fe79",
   "metadata": {
    "execution": {
     "iopub.execute_input": "2025-09-04T22:23:15.028144Z",
     "iopub.status.busy": "2025-09-04T22:23:15.027679Z",
     "iopub.status.idle": "2025-09-04T22:23:15.064326Z",
     "shell.execute_reply": "2025-09-04T22:23:15.063477Z"
    },
    "papermill": {
     "duration": 0.042336,
     "end_time": "2025-09-04T22:23:15.066125",
     "exception": false,
     "start_time": "2025-09-04T22:23:15.023789",
     "status": "completed"
    },
    "tags": []
   },
   "outputs": [],
   "source": [
    "df = pd.read_csv(\"/kaggle/input/breast-cancer-dataset/breast-cancer.csv\")"
   ]
  },
  {
   "cell_type": "code",
   "execution_count": 3,
   "id": "58f8dc36",
   "metadata": {
    "execution": {
     "iopub.execute_input": "2025-09-04T22:23:15.074523Z",
     "iopub.status.busy": "2025-09-04T22:23:15.073595Z",
     "iopub.status.idle": "2025-09-04T22:23:15.096368Z",
     "shell.execute_reply": "2025-09-04T22:23:15.095486Z"
    },
    "papermill": {
     "duration": 0.028649,
     "end_time": "2025-09-04T22:23:15.098104",
     "exception": false,
     "start_time": "2025-09-04T22:23:15.069455",
     "status": "completed"
    },
    "tags": []
   },
   "outputs": [],
   "source": [
    "df = df.drop(columns=[\"id\"])\n",
    "df[\"diagnosis\"] = df[\"diagnosis\"].replace(\"M\",\"0\")\n",
    "df[\"diagnosis\"] = df[\"diagnosis\"].replace(\"B\",\"1\")\n",
    "df[\"diagnosis\"] = df[\"diagnosis\"].astype(\"int\")"
   ]
  },
  {
   "cell_type": "code",
   "execution_count": 4,
   "id": "e0f472a2",
   "metadata": {
    "execution": {
     "iopub.execute_input": "2025-09-04T22:23:15.106073Z",
     "iopub.status.busy": "2025-09-04T22:23:15.105342Z",
     "iopub.status.idle": "2025-09-04T22:23:15.127024Z",
     "shell.execute_reply": "2025-09-04T22:23:15.126068Z"
    },
    "papermill": {
     "duration": 0.027352,
     "end_time": "2025-09-04T22:23:15.128658",
     "exception": false,
     "start_time": "2025-09-04T22:23:15.101306",
     "status": "completed"
    },
    "tags": []
   },
   "outputs": [],
   "source": [
    "df = df.sample(frac=160,replace=True)"
   ]
  },
  {
   "cell_type": "code",
   "execution_count": 5,
   "id": "2abeda63",
   "metadata": {
    "execution": {
     "iopub.execute_input": "2025-09-04T22:23:15.135911Z",
     "iopub.status.busy": "2025-09-04T22:23:15.135610Z",
     "iopub.status.idle": "2025-09-04T22:23:15.204761Z",
     "shell.execute_reply": "2025-09-04T22:23:15.203956Z"
    },
    "papermill": {
     "duration": 0.07434,
     "end_time": "2025-09-04T22:23:15.206134",
     "exception": false,
     "start_time": "2025-09-04T22:23:15.131794",
     "status": "completed"
    },
    "tags": []
   },
   "outputs": [
    {
     "data": {
      "text/html": [
       "<div>\n",
       "<style scoped>\n",
       "    .dataframe tbody tr th:only-of-type {\n",
       "        vertical-align: middle;\n",
       "    }\n",
       "\n",
       "    .dataframe tbody tr th {\n",
       "        vertical-align: top;\n",
       "    }\n",
       "\n",
       "    .dataframe thead th {\n",
       "        text-align: right;\n",
       "    }\n",
       "</style>\n",
       "<table border=\"1\" class=\"dataframe\">\n",
       "  <thead>\n",
       "    <tr style=\"text-align: right;\">\n",
       "      <th></th>\n",
       "      <th>diagnosis</th>\n",
       "      <th>radius_mean</th>\n",
       "      <th>texture_mean</th>\n",
       "      <th>perimeter_mean</th>\n",
       "      <th>area_mean</th>\n",
       "      <th>smoothness_mean</th>\n",
       "      <th>compactness_mean</th>\n",
       "      <th>concavity_mean</th>\n",
       "      <th>concave points_mean</th>\n",
       "      <th>symmetry_mean</th>\n",
       "      <th>...</th>\n",
       "      <th>radius_worst</th>\n",
       "      <th>texture_worst</th>\n",
       "      <th>perimeter_worst</th>\n",
       "      <th>area_worst</th>\n",
       "      <th>smoothness_worst</th>\n",
       "      <th>compactness_worst</th>\n",
       "      <th>concavity_worst</th>\n",
       "      <th>concave points_worst</th>\n",
       "      <th>symmetry_worst</th>\n",
       "      <th>fractal_dimension_worst</th>\n",
       "    </tr>\n",
       "  </thead>\n",
       "  <tbody>\n",
       "    <tr>\n",
       "      <th>514</th>\n",
       "      <td>0</td>\n",
       "      <td>15.05</td>\n",
       "      <td>19.07</td>\n",
       "      <td>97.26</td>\n",
       "      <td>701.9</td>\n",
       "      <td>0.09215</td>\n",
       "      <td>0.08597</td>\n",
       "      <td>0.07486</td>\n",
       "      <td>0.04335</td>\n",
       "      <td>0.1561</td>\n",
       "      <td>...</td>\n",
       "      <td>17.580</td>\n",
       "      <td>28.06</td>\n",
       "      <td>113.80</td>\n",
       "      <td>967.0</td>\n",
       "      <td>0.12460</td>\n",
       "      <td>0.21010</td>\n",
       "      <td>0.28660</td>\n",
       "      <td>0.11200</td>\n",
       "      <td>0.2282</td>\n",
       "      <td>0.06954</td>\n",
       "    </tr>\n",
       "    <tr>\n",
       "      <th>289</th>\n",
       "      <td>1</td>\n",
       "      <td>11.37</td>\n",
       "      <td>18.89</td>\n",
       "      <td>72.17</td>\n",
       "      <td>396.0</td>\n",
       "      <td>0.08713</td>\n",
       "      <td>0.05008</td>\n",
       "      <td>0.02399</td>\n",
       "      <td>0.02173</td>\n",
       "      <td>0.2013</td>\n",
       "      <td>...</td>\n",
       "      <td>12.360</td>\n",
       "      <td>26.14</td>\n",
       "      <td>79.29</td>\n",
       "      <td>459.3</td>\n",
       "      <td>0.11180</td>\n",
       "      <td>0.09708</td>\n",
       "      <td>0.07529</td>\n",
       "      <td>0.06203</td>\n",
       "      <td>0.3267</td>\n",
       "      <td>0.06994</td>\n",
       "    </tr>\n",
       "    <tr>\n",
       "      <th>39</th>\n",
       "      <td>0</td>\n",
       "      <td>13.48</td>\n",
       "      <td>20.82</td>\n",
       "      <td>88.40</td>\n",
       "      <td>559.2</td>\n",
       "      <td>0.10160</td>\n",
       "      <td>0.12550</td>\n",
       "      <td>0.10630</td>\n",
       "      <td>0.05439</td>\n",
       "      <td>0.1720</td>\n",
       "      <td>...</td>\n",
       "      <td>15.530</td>\n",
       "      <td>26.02</td>\n",
       "      <td>107.30</td>\n",
       "      <td>740.4</td>\n",
       "      <td>0.16100</td>\n",
       "      <td>0.42250</td>\n",
       "      <td>0.50300</td>\n",
       "      <td>0.22580</td>\n",
       "      <td>0.2807</td>\n",
       "      <td>0.10710</td>\n",
       "    </tr>\n",
       "    <tr>\n",
       "      <th>530</th>\n",
       "      <td>1</td>\n",
       "      <td>11.75</td>\n",
       "      <td>17.56</td>\n",
       "      <td>75.89</td>\n",
       "      <td>422.9</td>\n",
       "      <td>0.10730</td>\n",
       "      <td>0.09713</td>\n",
       "      <td>0.05282</td>\n",
       "      <td>0.04440</td>\n",
       "      <td>0.1598</td>\n",
       "      <td>...</td>\n",
       "      <td>13.500</td>\n",
       "      <td>27.98</td>\n",
       "      <td>88.52</td>\n",
       "      <td>552.3</td>\n",
       "      <td>0.13490</td>\n",
       "      <td>0.18540</td>\n",
       "      <td>0.13660</td>\n",
       "      <td>0.10100</td>\n",
       "      <td>0.2478</td>\n",
       "      <td>0.07757</td>\n",
       "    </tr>\n",
       "    <tr>\n",
       "      <th>150</th>\n",
       "      <td>1</td>\n",
       "      <td>13.00</td>\n",
       "      <td>20.78</td>\n",
       "      <td>83.51</td>\n",
       "      <td>519.4</td>\n",
       "      <td>0.11350</td>\n",
       "      <td>0.07589</td>\n",
       "      <td>0.03136</td>\n",
       "      <td>0.02645</td>\n",
       "      <td>0.2540</td>\n",
       "      <td>...</td>\n",
       "      <td>14.160</td>\n",
       "      <td>24.11</td>\n",
       "      <td>90.82</td>\n",
       "      <td>616.7</td>\n",
       "      <td>0.12970</td>\n",
       "      <td>0.11050</td>\n",
       "      <td>0.08112</td>\n",
       "      <td>0.06296</td>\n",
       "      <td>0.3196</td>\n",
       "      <td>0.06435</td>\n",
       "    </tr>\n",
       "    <tr>\n",
       "      <th>...</th>\n",
       "      <td>...</td>\n",
       "      <td>...</td>\n",
       "      <td>...</td>\n",
       "      <td>...</td>\n",
       "      <td>...</td>\n",
       "      <td>...</td>\n",
       "      <td>...</td>\n",
       "      <td>...</td>\n",
       "      <td>...</td>\n",
       "      <td>...</td>\n",
       "      <td>...</td>\n",
       "      <td>...</td>\n",
       "      <td>...</td>\n",
       "      <td>...</td>\n",
       "      <td>...</td>\n",
       "      <td>...</td>\n",
       "      <td>...</td>\n",
       "      <td>...</td>\n",
       "      <td>...</td>\n",
       "      <td>...</td>\n",
       "      <td>...</td>\n",
       "    </tr>\n",
       "    <tr>\n",
       "      <th>353</th>\n",
       "      <td>0</td>\n",
       "      <td>15.08</td>\n",
       "      <td>25.74</td>\n",
       "      <td>98.00</td>\n",
       "      <td>716.6</td>\n",
       "      <td>0.10240</td>\n",
       "      <td>0.09769</td>\n",
       "      <td>0.12350</td>\n",
       "      <td>0.06553</td>\n",
       "      <td>0.1647</td>\n",
       "      <td>...</td>\n",
       "      <td>18.510</td>\n",
       "      <td>33.22</td>\n",
       "      <td>121.20</td>\n",
       "      <td>1050.0</td>\n",
       "      <td>0.16600</td>\n",
       "      <td>0.23560</td>\n",
       "      <td>0.40290</td>\n",
       "      <td>0.15260</td>\n",
       "      <td>0.2654</td>\n",
       "      <td>0.09438</td>\n",
       "    </tr>\n",
       "    <tr>\n",
       "      <th>261</th>\n",
       "      <td>0</td>\n",
       "      <td>17.35</td>\n",
       "      <td>23.06</td>\n",
       "      <td>111.00</td>\n",
       "      <td>933.1</td>\n",
       "      <td>0.08662</td>\n",
       "      <td>0.06290</td>\n",
       "      <td>0.02891</td>\n",
       "      <td>0.02837</td>\n",
       "      <td>0.1564</td>\n",
       "      <td>...</td>\n",
       "      <td>19.850</td>\n",
       "      <td>31.47</td>\n",
       "      <td>128.20</td>\n",
       "      <td>1218.0</td>\n",
       "      <td>0.12400</td>\n",
       "      <td>0.14860</td>\n",
       "      <td>0.12110</td>\n",
       "      <td>0.08235</td>\n",
       "      <td>0.2452</td>\n",
       "      <td>0.06515</td>\n",
       "    </tr>\n",
       "    <tr>\n",
       "      <th>477</th>\n",
       "      <td>1</td>\n",
       "      <td>13.90</td>\n",
       "      <td>16.62</td>\n",
       "      <td>88.97</td>\n",
       "      <td>599.4</td>\n",
       "      <td>0.06828</td>\n",
       "      <td>0.05319</td>\n",
       "      <td>0.02224</td>\n",
       "      <td>0.01339</td>\n",
       "      <td>0.1813</td>\n",
       "      <td>...</td>\n",
       "      <td>15.140</td>\n",
       "      <td>21.80</td>\n",
       "      <td>101.20</td>\n",
       "      <td>718.9</td>\n",
       "      <td>0.09384</td>\n",
       "      <td>0.20060</td>\n",
       "      <td>0.13840</td>\n",
       "      <td>0.06222</td>\n",
       "      <td>0.2679</td>\n",
       "      <td>0.07698</td>\n",
       "    </tr>\n",
       "    <tr>\n",
       "      <th>435</th>\n",
       "      <td>0</td>\n",
       "      <td>13.98</td>\n",
       "      <td>19.62</td>\n",
       "      <td>91.12</td>\n",
       "      <td>599.5</td>\n",
       "      <td>0.10600</td>\n",
       "      <td>0.11330</td>\n",
       "      <td>0.11260</td>\n",
       "      <td>0.06463</td>\n",
       "      <td>0.1669</td>\n",
       "      <td>...</td>\n",
       "      <td>17.040</td>\n",
       "      <td>30.80</td>\n",
       "      <td>113.90</td>\n",
       "      <td>869.3</td>\n",
       "      <td>0.16130</td>\n",
       "      <td>0.35680</td>\n",
       "      <td>0.40690</td>\n",
       "      <td>0.18270</td>\n",
       "      <td>0.3179</td>\n",
       "      <td>0.10550</td>\n",
       "    </tr>\n",
       "    <tr>\n",
       "      <th>192</th>\n",
       "      <td>1</td>\n",
       "      <td>9.72</td>\n",
       "      <td>18.22</td>\n",
       "      <td>60.73</td>\n",
       "      <td>288.1</td>\n",
       "      <td>0.06950</td>\n",
       "      <td>0.02344</td>\n",
       "      <td>0.00000</td>\n",
       "      <td>0.00000</td>\n",
       "      <td>0.1653</td>\n",
       "      <td>...</td>\n",
       "      <td>9.968</td>\n",
       "      <td>20.83</td>\n",
       "      <td>62.25</td>\n",
       "      <td>303.8</td>\n",
       "      <td>0.07117</td>\n",
       "      <td>0.02729</td>\n",
       "      <td>0.00000</td>\n",
       "      <td>0.00000</td>\n",
       "      <td>0.1909</td>\n",
       "      <td>0.06559</td>\n",
       "    </tr>\n",
       "  </tbody>\n",
       "</table>\n",
       "<p>91040 rows × 31 columns</p>\n",
       "</div>"
      ],
      "text/plain": [
       "     diagnosis  radius_mean  texture_mean  perimeter_mean  area_mean  \\\n",
       "514          0        15.05         19.07           97.26      701.9   \n",
       "289          1        11.37         18.89           72.17      396.0   \n",
       "39           0        13.48         20.82           88.40      559.2   \n",
       "530          1        11.75         17.56           75.89      422.9   \n",
       "150          1        13.00         20.78           83.51      519.4   \n",
       "..         ...          ...           ...             ...        ...   \n",
       "353          0        15.08         25.74           98.00      716.6   \n",
       "261          0        17.35         23.06          111.00      933.1   \n",
       "477          1        13.90         16.62           88.97      599.4   \n",
       "435          0        13.98         19.62           91.12      599.5   \n",
       "192          1         9.72         18.22           60.73      288.1   \n",
       "\n",
       "     smoothness_mean  compactness_mean  concavity_mean  concave points_mean  \\\n",
       "514          0.09215           0.08597         0.07486              0.04335   \n",
       "289          0.08713           0.05008         0.02399              0.02173   \n",
       "39           0.10160           0.12550         0.10630              0.05439   \n",
       "530          0.10730           0.09713         0.05282              0.04440   \n",
       "150          0.11350           0.07589         0.03136              0.02645   \n",
       "..               ...               ...             ...                  ...   \n",
       "353          0.10240           0.09769         0.12350              0.06553   \n",
       "261          0.08662           0.06290         0.02891              0.02837   \n",
       "477          0.06828           0.05319         0.02224              0.01339   \n",
       "435          0.10600           0.11330         0.11260              0.06463   \n",
       "192          0.06950           0.02344         0.00000              0.00000   \n",
       "\n",
       "     symmetry_mean  ...  radius_worst  texture_worst  perimeter_worst  \\\n",
       "514         0.1561  ...        17.580          28.06           113.80   \n",
       "289         0.2013  ...        12.360          26.14            79.29   \n",
       "39          0.1720  ...        15.530          26.02           107.30   \n",
       "530         0.1598  ...        13.500          27.98            88.52   \n",
       "150         0.2540  ...        14.160          24.11            90.82   \n",
       "..             ...  ...           ...            ...              ...   \n",
       "353         0.1647  ...        18.510          33.22           121.20   \n",
       "261         0.1564  ...        19.850          31.47           128.20   \n",
       "477         0.1813  ...        15.140          21.80           101.20   \n",
       "435         0.1669  ...        17.040          30.80           113.90   \n",
       "192         0.1653  ...         9.968          20.83            62.25   \n",
       "\n",
       "     area_worst  smoothness_worst  compactness_worst  concavity_worst  \\\n",
       "514       967.0           0.12460            0.21010          0.28660   \n",
       "289       459.3           0.11180            0.09708          0.07529   \n",
       "39        740.4           0.16100            0.42250          0.50300   \n",
       "530       552.3           0.13490            0.18540          0.13660   \n",
       "150       616.7           0.12970            0.11050          0.08112   \n",
       "..          ...               ...                ...              ...   \n",
       "353      1050.0           0.16600            0.23560          0.40290   \n",
       "261      1218.0           0.12400            0.14860          0.12110   \n",
       "477       718.9           0.09384            0.20060          0.13840   \n",
       "435       869.3           0.16130            0.35680          0.40690   \n",
       "192       303.8           0.07117            0.02729          0.00000   \n",
       "\n",
       "     concave points_worst  symmetry_worst  fractal_dimension_worst  \n",
       "514               0.11200          0.2282                  0.06954  \n",
       "289               0.06203          0.3267                  0.06994  \n",
       "39                0.22580          0.2807                  0.10710  \n",
       "530               0.10100          0.2478                  0.07757  \n",
       "150               0.06296          0.3196                  0.06435  \n",
       "..                    ...             ...                      ...  \n",
       "353               0.15260          0.2654                  0.09438  \n",
       "261               0.08235          0.2452                  0.06515  \n",
       "477               0.06222          0.2679                  0.07698  \n",
       "435               0.18270          0.3179                  0.10550  \n",
       "192               0.00000          0.1909                  0.06559  \n",
       "\n",
       "[91040 rows x 31 columns]"
      ]
     },
     "execution_count": 5,
     "metadata": {},
     "output_type": "execute_result"
    }
   ],
   "source": [
    "df"
   ]
  },
  {
   "cell_type": "code",
   "execution_count": 6,
   "id": "dea3ad25",
   "metadata": {
    "execution": {
     "iopub.execute_input": "2025-09-04T22:23:15.214865Z",
     "iopub.status.busy": "2025-09-04T22:23:15.214498Z",
     "iopub.status.idle": "2025-09-04T22:23:15.228672Z",
     "shell.execute_reply": "2025-09-04T22:23:15.227875Z"
    },
    "papermill": {
     "duration": 0.02047,
     "end_time": "2025-09-04T22:23:15.230375",
     "exception": false,
     "start_time": "2025-09-04T22:23:15.209905",
     "status": "completed"
    },
    "tags": []
   },
   "outputs": [],
   "source": [
    "x = df.drop(columns=\"diagnosis\")\n",
    "y = df.diagnosis"
   ]
  },
  {
   "cell_type": "code",
   "execution_count": 7,
   "id": "a300e1d8",
   "metadata": {
    "execution": {
     "iopub.execute_input": "2025-09-04T22:23:15.238986Z",
     "iopub.status.busy": "2025-09-04T22:23:15.238639Z",
     "iopub.status.idle": "2025-09-04T22:23:17.242057Z",
     "shell.execute_reply": "2025-09-04T22:23:17.241075Z"
    },
    "papermill": {
     "duration": 2.009481,
     "end_time": "2025-09-04T22:23:17.243609",
     "exception": false,
     "start_time": "2025-09-04T22:23:15.234128",
     "status": "completed"
    },
    "tags": []
   },
   "outputs": [],
   "source": [
    "from sklearn.model_selection import train_test_split\n",
    "from sklearn.linear_model import LogisticRegression\n",
    "from sklearn.ensemble import RandomForestClassifier"
   ]
  },
  {
   "cell_type": "code",
   "execution_count": 8,
   "id": "b16948a7",
   "metadata": {
    "execution": {
     "iopub.execute_input": "2025-09-04T22:23:17.252690Z",
     "iopub.status.busy": "2025-09-04T22:23:17.251540Z",
     "iopub.status.idle": "2025-09-04T22:23:17.288290Z",
     "shell.execute_reply": "2025-09-04T22:23:17.287277Z"
    },
    "papermill": {
     "duration": 0.042587,
     "end_time": "2025-09-04T22:23:17.289827",
     "exception": false,
     "start_time": "2025-09-04T22:23:17.247240",
     "status": "completed"
    },
    "tags": []
   },
   "outputs": [],
   "source": [
    "x_train,x_test,y_train,y_test = train_test_split(x,y,test_size = 0.2,random_state= 42)"
   ]
  },
  {
   "cell_type": "code",
   "execution_count": 9,
   "id": "7387c7cf",
   "metadata": {
    "execution": {
     "iopub.execute_input": "2025-09-04T22:23:17.299161Z",
     "iopub.status.busy": "2025-09-04T22:23:17.298632Z",
     "iopub.status.idle": "2025-09-04T22:23:17.302779Z",
     "shell.execute_reply": "2025-09-04T22:23:17.302055Z"
    },
    "papermill": {
     "duration": 0.01025,
     "end_time": "2025-09-04T22:23:17.304151",
     "exception": false,
     "start_time": "2025-09-04T22:23:17.293901",
     "status": "completed"
    },
    "tags": []
   },
   "outputs": [],
   "source": [
    "lr = LogisticRegression(max_iter = 6000)\n",
    "rfc = RandomForestClassifier(n_estimators = 3000)"
   ]
  },
  {
   "cell_type": "code",
   "execution_count": 10,
   "id": "bc09f79d",
   "metadata": {
    "execution": {
     "iopub.execute_input": "2025-09-04T22:23:17.313285Z",
     "iopub.status.busy": "2025-09-04T22:23:17.312143Z",
     "iopub.status.idle": "2025-09-04T22:24:23.989716Z",
     "shell.execute_reply": "2025-09-04T22:24:23.988816Z"
    },
    "papermill": {
     "duration": 66.688367,
     "end_time": "2025-09-04T22:24:23.996143",
     "exception": false,
     "start_time": "2025-09-04T22:23:17.307776",
     "status": "completed"
    },
    "tags": []
   },
   "outputs": [
    {
     "data": {
      "text/html": [
       "<style>#sk-container-id-1 {color: black;background-color: white;}#sk-container-id-1 pre{padding: 0;}#sk-container-id-1 div.sk-toggleable {background-color: white;}#sk-container-id-1 label.sk-toggleable__label {cursor: pointer;display: block;width: 100%;margin-bottom: 0;padding: 0.3em;box-sizing: border-box;text-align: center;}#sk-container-id-1 label.sk-toggleable__label-arrow:before {content: \"▸\";float: left;margin-right: 0.25em;color: #696969;}#sk-container-id-1 label.sk-toggleable__label-arrow:hover:before {color: black;}#sk-container-id-1 div.sk-estimator:hover label.sk-toggleable__label-arrow:before {color: black;}#sk-container-id-1 div.sk-toggleable__content {max-height: 0;max-width: 0;overflow: hidden;text-align: left;background-color: #f0f8ff;}#sk-container-id-1 div.sk-toggleable__content pre {margin: 0.2em;color: black;border-radius: 0.25em;background-color: #f0f8ff;}#sk-container-id-1 input.sk-toggleable__control:checked~div.sk-toggleable__content {max-height: 200px;max-width: 100%;overflow: auto;}#sk-container-id-1 input.sk-toggleable__control:checked~label.sk-toggleable__label-arrow:before {content: \"▾\";}#sk-container-id-1 div.sk-estimator input.sk-toggleable__control:checked~label.sk-toggleable__label {background-color: #d4ebff;}#sk-container-id-1 div.sk-label input.sk-toggleable__control:checked~label.sk-toggleable__label {background-color: #d4ebff;}#sk-container-id-1 input.sk-hidden--visually {border: 0;clip: rect(1px 1px 1px 1px);clip: rect(1px, 1px, 1px, 1px);height: 1px;margin: -1px;overflow: hidden;padding: 0;position: absolute;width: 1px;}#sk-container-id-1 div.sk-estimator {font-family: monospace;background-color: #f0f8ff;border: 1px dotted black;border-radius: 0.25em;box-sizing: border-box;margin-bottom: 0.5em;}#sk-container-id-1 div.sk-estimator:hover {background-color: #d4ebff;}#sk-container-id-1 div.sk-parallel-item::after {content: \"\";width: 100%;border-bottom: 1px solid gray;flex-grow: 1;}#sk-container-id-1 div.sk-label:hover label.sk-toggleable__label {background-color: #d4ebff;}#sk-container-id-1 div.sk-serial::before {content: \"\";position: absolute;border-left: 1px solid gray;box-sizing: border-box;top: 0;bottom: 0;left: 50%;z-index: 0;}#sk-container-id-1 div.sk-serial {display: flex;flex-direction: column;align-items: center;background-color: white;padding-right: 0.2em;padding-left: 0.2em;position: relative;}#sk-container-id-1 div.sk-item {position: relative;z-index: 1;}#sk-container-id-1 div.sk-parallel {display: flex;align-items: stretch;justify-content: center;background-color: white;position: relative;}#sk-container-id-1 div.sk-item::before, #sk-container-id-1 div.sk-parallel-item::before {content: \"\";position: absolute;border-left: 1px solid gray;box-sizing: border-box;top: 0;bottom: 0;left: 50%;z-index: -1;}#sk-container-id-1 div.sk-parallel-item {display: flex;flex-direction: column;z-index: 1;position: relative;background-color: white;}#sk-container-id-1 div.sk-parallel-item:first-child::after {align-self: flex-end;width: 50%;}#sk-container-id-1 div.sk-parallel-item:last-child::after {align-self: flex-start;width: 50%;}#sk-container-id-1 div.sk-parallel-item:only-child::after {width: 0;}#sk-container-id-1 div.sk-dashed-wrapped {border: 1px dashed gray;margin: 0 0.4em 0.5em 0.4em;box-sizing: border-box;padding-bottom: 0.4em;background-color: white;}#sk-container-id-1 div.sk-label label {font-family: monospace;font-weight: bold;display: inline-block;line-height: 1.2em;}#sk-container-id-1 div.sk-label-container {text-align: center;}#sk-container-id-1 div.sk-container {/* jupyter's `normalize.less` sets `[hidden] { display: none; }` but bootstrap.min.css set `[hidden] { display: none !important; }` so we also need the `!important` here to be able to override the default hidden behavior on the sphinx rendered scikit-learn.org. See: https://github.com/scikit-learn/scikit-learn/issues/21755 */display: inline-block !important;position: relative;}#sk-container-id-1 div.sk-text-repr-fallback {display: none;}</style><div id=\"sk-container-id-1\" class=\"sk-top-container\"><div class=\"sk-text-repr-fallback\"><pre>LogisticRegression(max_iter=6000)</pre><b>In a Jupyter environment, please rerun this cell to show the HTML representation or trust the notebook. <br />On GitHub, the HTML representation is unable to render, please try loading this page with nbviewer.org.</b></div><div class=\"sk-container\" hidden><div class=\"sk-item\"><div class=\"sk-estimator sk-toggleable\"><input class=\"sk-toggleable__control sk-hidden--visually\" id=\"sk-estimator-id-1\" type=\"checkbox\" checked><label for=\"sk-estimator-id-1\" class=\"sk-toggleable__label sk-toggleable__label-arrow\">LogisticRegression</label><div class=\"sk-toggleable__content\"><pre>LogisticRegression(max_iter=6000)</pre></div></div></div></div></div>"
      ],
      "text/plain": [
       "LogisticRegression(max_iter=6000)"
      ]
     },
     "execution_count": 10,
     "metadata": {},
     "output_type": "execute_result"
    }
   ],
   "source": [
    "lr.fit(x_train,y_train)"
   ]
  },
  {
   "cell_type": "code",
   "execution_count": 11,
   "id": "0c308c52",
   "metadata": {
    "execution": {
     "iopub.execute_input": "2025-09-04T22:24:24.009411Z",
     "iopub.status.busy": "2025-09-04T22:24:24.009077Z",
     "iopub.status.idle": "2025-09-04T22:27:07.203715Z",
     "shell.execute_reply": "2025-09-04T22:27:07.202792Z"
    },
    "papermill": {
     "duration": 163.206621,
     "end_time": "2025-09-04T22:27:07.208857",
     "exception": false,
     "start_time": "2025-09-04T22:24:24.002236",
     "status": "completed"
    },
    "tags": []
   },
   "outputs": [
    {
     "data": {
      "text/html": [
       "<style>#sk-container-id-2 {color: black;background-color: white;}#sk-container-id-2 pre{padding: 0;}#sk-container-id-2 div.sk-toggleable {background-color: white;}#sk-container-id-2 label.sk-toggleable__label {cursor: pointer;display: block;width: 100%;margin-bottom: 0;padding: 0.3em;box-sizing: border-box;text-align: center;}#sk-container-id-2 label.sk-toggleable__label-arrow:before {content: \"▸\";float: left;margin-right: 0.25em;color: #696969;}#sk-container-id-2 label.sk-toggleable__label-arrow:hover:before {color: black;}#sk-container-id-2 div.sk-estimator:hover label.sk-toggleable__label-arrow:before {color: black;}#sk-container-id-2 div.sk-toggleable__content {max-height: 0;max-width: 0;overflow: hidden;text-align: left;background-color: #f0f8ff;}#sk-container-id-2 div.sk-toggleable__content pre {margin: 0.2em;color: black;border-radius: 0.25em;background-color: #f0f8ff;}#sk-container-id-2 input.sk-toggleable__control:checked~div.sk-toggleable__content {max-height: 200px;max-width: 100%;overflow: auto;}#sk-container-id-2 input.sk-toggleable__control:checked~label.sk-toggleable__label-arrow:before {content: \"▾\";}#sk-container-id-2 div.sk-estimator input.sk-toggleable__control:checked~label.sk-toggleable__label {background-color: #d4ebff;}#sk-container-id-2 div.sk-label input.sk-toggleable__control:checked~label.sk-toggleable__label {background-color: #d4ebff;}#sk-container-id-2 input.sk-hidden--visually {border: 0;clip: rect(1px 1px 1px 1px);clip: rect(1px, 1px, 1px, 1px);height: 1px;margin: -1px;overflow: hidden;padding: 0;position: absolute;width: 1px;}#sk-container-id-2 div.sk-estimator {font-family: monospace;background-color: #f0f8ff;border: 1px dotted black;border-radius: 0.25em;box-sizing: border-box;margin-bottom: 0.5em;}#sk-container-id-2 div.sk-estimator:hover {background-color: #d4ebff;}#sk-container-id-2 div.sk-parallel-item::after {content: \"\";width: 100%;border-bottom: 1px solid gray;flex-grow: 1;}#sk-container-id-2 div.sk-label:hover label.sk-toggleable__label {background-color: #d4ebff;}#sk-container-id-2 div.sk-serial::before {content: \"\";position: absolute;border-left: 1px solid gray;box-sizing: border-box;top: 0;bottom: 0;left: 50%;z-index: 0;}#sk-container-id-2 div.sk-serial {display: flex;flex-direction: column;align-items: center;background-color: white;padding-right: 0.2em;padding-left: 0.2em;position: relative;}#sk-container-id-2 div.sk-item {position: relative;z-index: 1;}#sk-container-id-2 div.sk-parallel {display: flex;align-items: stretch;justify-content: center;background-color: white;position: relative;}#sk-container-id-2 div.sk-item::before, #sk-container-id-2 div.sk-parallel-item::before {content: \"\";position: absolute;border-left: 1px solid gray;box-sizing: border-box;top: 0;bottom: 0;left: 50%;z-index: -1;}#sk-container-id-2 div.sk-parallel-item {display: flex;flex-direction: column;z-index: 1;position: relative;background-color: white;}#sk-container-id-2 div.sk-parallel-item:first-child::after {align-self: flex-end;width: 50%;}#sk-container-id-2 div.sk-parallel-item:last-child::after {align-self: flex-start;width: 50%;}#sk-container-id-2 div.sk-parallel-item:only-child::after {width: 0;}#sk-container-id-2 div.sk-dashed-wrapped {border: 1px dashed gray;margin: 0 0.4em 0.5em 0.4em;box-sizing: border-box;padding-bottom: 0.4em;background-color: white;}#sk-container-id-2 div.sk-label label {font-family: monospace;font-weight: bold;display: inline-block;line-height: 1.2em;}#sk-container-id-2 div.sk-label-container {text-align: center;}#sk-container-id-2 div.sk-container {/* jupyter's `normalize.less` sets `[hidden] { display: none; }` but bootstrap.min.css set `[hidden] { display: none !important; }` so we also need the `!important` here to be able to override the default hidden behavior on the sphinx rendered scikit-learn.org. See: https://github.com/scikit-learn/scikit-learn/issues/21755 */display: inline-block !important;position: relative;}#sk-container-id-2 div.sk-text-repr-fallback {display: none;}</style><div id=\"sk-container-id-2\" class=\"sk-top-container\"><div class=\"sk-text-repr-fallback\"><pre>RandomForestClassifier(n_estimators=3000)</pre><b>In a Jupyter environment, please rerun this cell to show the HTML representation or trust the notebook. <br />On GitHub, the HTML representation is unable to render, please try loading this page with nbviewer.org.</b></div><div class=\"sk-container\" hidden><div class=\"sk-item\"><div class=\"sk-estimator sk-toggleable\"><input class=\"sk-toggleable__control sk-hidden--visually\" id=\"sk-estimator-id-2\" type=\"checkbox\" checked><label for=\"sk-estimator-id-2\" class=\"sk-toggleable__label sk-toggleable__label-arrow\">RandomForestClassifier</label><div class=\"sk-toggleable__content\"><pre>RandomForestClassifier(n_estimators=3000)</pre></div></div></div></div></div>"
      ],
      "text/plain": [
       "RandomForestClassifier(n_estimators=3000)"
      ]
     },
     "execution_count": 11,
     "metadata": {},
     "output_type": "execute_result"
    }
   ],
   "source": [
    "rfc.fit(x_train,y_train)"
   ]
  },
  {
   "cell_type": "code",
   "execution_count": 12,
   "id": "16488dda",
   "metadata": {
    "execution": {
     "iopub.execute_input": "2025-09-04T22:27:07.217974Z",
     "iopub.status.busy": "2025-09-04T22:27:07.217616Z",
     "iopub.status.idle": "2025-09-04T22:27:07.222007Z",
     "shell.execute_reply": "2025-09-04T22:27:07.221111Z"
    },
    "papermill": {
     "duration": 0.010751,
     "end_time": "2025-09-04T22:27:07.223592",
     "exception": false,
     "start_time": "2025-09-04T22:27:07.212841",
     "status": "completed"
    },
    "tags": []
   },
   "outputs": [],
   "source": [
    "from sklearn.metrics import accuracy_score"
   ]
  },
  {
   "cell_type": "code",
   "execution_count": 13,
   "id": "6dd07a37",
   "metadata": {
    "execution": {
     "iopub.execute_input": "2025-09-04T22:27:07.233561Z",
     "iopub.status.busy": "2025-09-04T22:27:07.232634Z",
     "iopub.status.idle": "2025-09-04T22:27:10.965612Z",
     "shell.execute_reply": "2025-09-04T22:27:10.964772Z"
    },
    "papermill": {
     "duration": 3.73938,
     "end_time": "2025-09-04T22:27:10.967243",
     "exception": false,
     "start_time": "2025-09-04T22:27:07.227863",
     "status": "completed"
    },
    "tags": []
   },
   "outputs": [],
   "source": [
    "predict_lr = lr.predict(x_test)\n",
    "predict_rfc = rfc.predict(x_test)"
   ]
  },
  {
   "cell_type": "code",
   "execution_count": 14,
   "id": "6c1665ed",
   "metadata": {
    "execution": {
     "iopub.execute_input": "2025-09-04T22:27:10.976141Z",
     "iopub.status.busy": "2025-09-04T22:27:10.975857Z",
     "iopub.status.idle": "2025-09-04T22:27:10.985576Z",
     "shell.execute_reply": "2025-09-04T22:27:10.984588Z"
    },
    "papermill": {
     "duration": 0.015875,
     "end_time": "2025-09-04T22:27:10.987104",
     "exception": false,
     "start_time": "2025-09-04T22:27:10.971229",
     "status": "completed"
    },
    "tags": []
   },
   "outputs": [
    {
     "name": "stdout",
     "output_type": "stream",
     "text": [
      "Logistic Regression 0.9752855887521968\n",
      "Random Forest Classifier 1.0\n"
     ]
    }
   ],
   "source": [
    "print(f\"Logistic Regression {accuracy_score(y_test,predict_lr)}\")\n",
    "print(f\"Random Forest Classifier {accuracy_score(y_test,predict_rfc)}\")"
   ]
  },
  {
   "cell_type": "code",
   "execution_count": null,
   "id": "76baee16",
   "metadata": {
    "papermill": {
     "duration": 0.003985,
     "end_time": "2025-09-04T22:27:10.995165",
     "exception": false,
     "start_time": "2025-09-04T22:27:10.991180",
     "status": "completed"
    },
    "tags": []
   },
   "outputs": [],
   "source": []
  },
  {
   "cell_type": "code",
   "execution_count": null,
   "id": "dc4e8ea5",
   "metadata": {
    "papermill": {
     "duration": 0.003665,
     "end_time": "2025-09-04T22:27:11.002739",
     "exception": false,
     "start_time": "2025-09-04T22:27:10.999074",
     "status": "completed"
    },
    "tags": []
   },
   "outputs": [],
   "source": []
  }
 ],
 "metadata": {
  "kaggle": {
   "accelerator": "none",
   "dataSources": [
    {
     "datasetId": 1829286,
     "sourceId": 2984728,
     "sourceType": "datasetVersion"
    }
   ],
   "dockerImageVersionId": 31089,
   "isGpuEnabled": false,
   "isInternetEnabled": true,
   "language": "python",
   "sourceType": "notebook"
  },
  "kernelspec": {
   "display_name": "Python 3",
   "language": "python",
   "name": "python3"
  },
  "language_info": {
   "codemirror_mode": {
    "name": "ipython",
    "version": 3
   },
   "file_extension": ".py",
   "mimetype": "text/x-python",
   "name": "python",
   "nbconvert_exporter": "python",
   "pygments_lexer": "ipython3",
   "version": "3.11.13"
  },
  "papermill": {
   "default_parameters": {},
   "duration": 243.859049,
   "end_time": "2025-09-04T22:27:11.727356",
   "environment_variables": {},
   "exception": null,
   "input_path": "__notebook__.ipynb",
   "output_path": "__notebook__.ipynb",
   "parameters": {},
   "start_time": "2025-09-04T22:23:07.868307",
   "version": "2.6.0"
  }
 },
 "nbformat": 4,
 "nbformat_minor": 5
}
